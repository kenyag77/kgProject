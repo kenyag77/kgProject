{
 "cells": [
  {
   "cell_type": "markdown",
   "id": "63cbb5dd",
   "metadata": {},
   "source": [
    "## Kaggle Project: House Prices - Advanced Regression Techniques"
   ]
  },
  {
   "cell_type": "markdown",
   "id": "de1a46cb",
   "metadata": {},
   "source": [
    "The packages imported:"
   ]
  },
  {
   "cell_type": "code",
   "execution_count": 2,
   "id": "3196c762",
   "metadata": {},
   "outputs": [],
   "source": [
    "import numpy as np \n",
    "import pandas as pd\n",
    "import matplotlib.pyplot as plt\n",
    "from sklearn.model_selection import train_test_split\n",
    "from sklearn.preprocessing import OneHotEncoder, LabelEncoder\n",
    "from sklearn.pipeline import Pipeline\n",
    "from IPython.display import HTML, display\n",
    "import tabulate\n",
    "#metrics\n",
    "from sklearn.metrics import mean_squared_error \n",
    "from sklearn.decomposition import PCA\n",
    "from sklearn.preprocessing import StandardScaler \n",
    "from sklearn.model_selection import train_test_split\n",
    "#models \n",
    "from sklearn.linear_model import Ridge, LinearRegression, Lasso"
   ]
  },
  {
   "cell_type": "markdown",
   "id": "60f224af",
   "metadata": {},
   "source": [
    "Import data sets"
   ]
  },
  {
   "cell_type": "code",
   "execution_count": 3,
   "id": "ef1ba2a2",
   "metadata": {},
   "outputs": [],
   "source": [
    "main_df = pd.read_csv('train.csv')\n",
    "train_df = pd.read_csv('train.csv') # 1- 1460\n",
    "test_df = pd.read_csv('test.csv') # the rest\n",
    "train_columns = list(train_df.columns.values.tolist())"
   ]
  },
  {
   "cell_type": "code",
   "execution_count": 4,
   "id": "e268d45f",
   "metadata": {},
   "outputs": [
    {
     "data": {
      "text/html": [
       "<div>\n",
       "<style scoped>\n",
       "    .dataframe tbody tr th:only-of-type {\n",
       "        vertical-align: middle;\n",
       "    }\n",
       "\n",
       "    .dataframe tbody tr th {\n",
       "        vertical-align: top;\n",
       "    }\n",
       "\n",
       "    .dataframe thead th {\n",
       "        text-align: right;\n",
       "    }\n",
       "</style>\n",
       "<table border=\"1\" class=\"dataframe\">\n",
       "  <thead>\n",
       "    <tr style=\"text-align: right;\">\n",
       "      <th></th>\n",
       "      <th>Id</th>\n",
       "      <th>MSSubClass</th>\n",
       "      <th>MSZoning</th>\n",
       "      <th>LotFrontage</th>\n",
       "      <th>LotArea</th>\n",
       "      <th>Street</th>\n",
       "      <th>Alley</th>\n",
       "      <th>LotShape</th>\n",
       "      <th>LandContour</th>\n",
       "      <th>Utilities</th>\n",
       "      <th>...</th>\n",
       "      <th>PoolArea</th>\n",
       "      <th>PoolQC</th>\n",
       "      <th>Fence</th>\n",
       "      <th>MiscFeature</th>\n",
       "      <th>MiscVal</th>\n",
       "      <th>MoSold</th>\n",
       "      <th>YrSold</th>\n",
       "      <th>SaleType</th>\n",
       "      <th>SaleCondition</th>\n",
       "      <th>SalePrice</th>\n",
       "    </tr>\n",
       "  </thead>\n",
       "  <tbody>\n",
       "    <tr>\n",
       "      <th>1455</th>\n",
       "      <td>1456</td>\n",
       "      <td>60</td>\n",
       "      <td>RL</td>\n",
       "      <td>62.0</td>\n",
       "      <td>7917</td>\n",
       "      <td>Pave</td>\n",
       "      <td>NaN</td>\n",
       "      <td>Reg</td>\n",
       "      <td>Lvl</td>\n",
       "      <td>AllPub</td>\n",
       "      <td>...</td>\n",
       "      <td>0</td>\n",
       "      <td>NaN</td>\n",
       "      <td>NaN</td>\n",
       "      <td>NaN</td>\n",
       "      <td>0</td>\n",
       "      <td>8</td>\n",
       "      <td>2007</td>\n",
       "      <td>WD</td>\n",
       "      <td>Normal</td>\n",
       "      <td>175000</td>\n",
       "    </tr>\n",
       "    <tr>\n",
       "      <th>1456</th>\n",
       "      <td>1457</td>\n",
       "      <td>20</td>\n",
       "      <td>RL</td>\n",
       "      <td>85.0</td>\n",
       "      <td>13175</td>\n",
       "      <td>Pave</td>\n",
       "      <td>NaN</td>\n",
       "      <td>Reg</td>\n",
       "      <td>Lvl</td>\n",
       "      <td>AllPub</td>\n",
       "      <td>...</td>\n",
       "      <td>0</td>\n",
       "      <td>NaN</td>\n",
       "      <td>MnPrv</td>\n",
       "      <td>NaN</td>\n",
       "      <td>0</td>\n",
       "      <td>2</td>\n",
       "      <td>2010</td>\n",
       "      <td>WD</td>\n",
       "      <td>Normal</td>\n",
       "      <td>210000</td>\n",
       "    </tr>\n",
       "    <tr>\n",
       "      <th>1457</th>\n",
       "      <td>1458</td>\n",
       "      <td>70</td>\n",
       "      <td>RL</td>\n",
       "      <td>66.0</td>\n",
       "      <td>9042</td>\n",
       "      <td>Pave</td>\n",
       "      <td>NaN</td>\n",
       "      <td>Reg</td>\n",
       "      <td>Lvl</td>\n",
       "      <td>AllPub</td>\n",
       "      <td>...</td>\n",
       "      <td>0</td>\n",
       "      <td>NaN</td>\n",
       "      <td>GdPrv</td>\n",
       "      <td>Shed</td>\n",
       "      <td>2500</td>\n",
       "      <td>5</td>\n",
       "      <td>2010</td>\n",
       "      <td>WD</td>\n",
       "      <td>Normal</td>\n",
       "      <td>266500</td>\n",
       "    </tr>\n",
       "    <tr>\n",
       "      <th>1458</th>\n",
       "      <td>1459</td>\n",
       "      <td>20</td>\n",
       "      <td>RL</td>\n",
       "      <td>68.0</td>\n",
       "      <td>9717</td>\n",
       "      <td>Pave</td>\n",
       "      <td>NaN</td>\n",
       "      <td>Reg</td>\n",
       "      <td>Lvl</td>\n",
       "      <td>AllPub</td>\n",
       "      <td>...</td>\n",
       "      <td>0</td>\n",
       "      <td>NaN</td>\n",
       "      <td>NaN</td>\n",
       "      <td>NaN</td>\n",
       "      <td>0</td>\n",
       "      <td>4</td>\n",
       "      <td>2010</td>\n",
       "      <td>WD</td>\n",
       "      <td>Normal</td>\n",
       "      <td>142125</td>\n",
       "    </tr>\n",
       "    <tr>\n",
       "      <th>1459</th>\n",
       "      <td>1460</td>\n",
       "      <td>20</td>\n",
       "      <td>RL</td>\n",
       "      <td>75.0</td>\n",
       "      <td>9937</td>\n",
       "      <td>Pave</td>\n",
       "      <td>NaN</td>\n",
       "      <td>Reg</td>\n",
       "      <td>Lvl</td>\n",
       "      <td>AllPub</td>\n",
       "      <td>...</td>\n",
       "      <td>0</td>\n",
       "      <td>NaN</td>\n",
       "      <td>NaN</td>\n",
       "      <td>NaN</td>\n",
       "      <td>0</td>\n",
       "      <td>6</td>\n",
       "      <td>2008</td>\n",
       "      <td>WD</td>\n",
       "      <td>Normal</td>\n",
       "      <td>147500</td>\n",
       "    </tr>\n",
       "  </tbody>\n",
       "</table>\n",
       "<p>5 rows × 81 columns</p>\n",
       "</div>"
      ],
      "text/plain": [
       "        Id  MSSubClass MSZoning  LotFrontage  LotArea Street Alley LotShape  \\\n",
       "1455  1456          60       RL         62.0     7917   Pave   NaN      Reg   \n",
       "1456  1457          20       RL         85.0    13175   Pave   NaN      Reg   \n",
       "1457  1458          70       RL         66.0     9042   Pave   NaN      Reg   \n",
       "1458  1459          20       RL         68.0     9717   Pave   NaN      Reg   \n",
       "1459  1460          20       RL         75.0     9937   Pave   NaN      Reg   \n",
       "\n",
       "     LandContour Utilities  ... PoolArea PoolQC  Fence MiscFeature MiscVal  \\\n",
       "1455         Lvl    AllPub  ...        0    NaN    NaN         NaN       0   \n",
       "1456         Lvl    AllPub  ...        0    NaN  MnPrv         NaN       0   \n",
       "1457         Lvl    AllPub  ...        0    NaN  GdPrv        Shed    2500   \n",
       "1458         Lvl    AllPub  ...        0    NaN    NaN         NaN       0   \n",
       "1459         Lvl    AllPub  ...        0    NaN    NaN         NaN       0   \n",
       "\n",
       "     MoSold YrSold  SaleType  SaleCondition  SalePrice  \n",
       "1455      8   2007        WD         Normal     175000  \n",
       "1456      2   2010        WD         Normal     210000  \n",
       "1457      5   2010        WD         Normal     266500  \n",
       "1458      4   2010        WD         Normal     142125  \n",
       "1459      6   2008        WD         Normal     147500  \n",
       "\n",
       "[5 rows x 81 columns]"
      ]
     },
     "execution_count": 4,
     "metadata": {},
     "output_type": "execute_result"
    }
   ],
   "source": [
    "train_df.tail()"
   ]
  },
  {
   "cell_type": "code",
   "execution_count": 5,
   "id": "aac60816",
   "metadata": {},
   "outputs": [
    {
     "data": {
      "text/html": [
       "<div>\n",
       "<style scoped>\n",
       "    .dataframe tbody tr th:only-of-type {\n",
       "        vertical-align: middle;\n",
       "    }\n",
       "\n",
       "    .dataframe tbody tr th {\n",
       "        vertical-align: top;\n",
       "    }\n",
       "\n",
       "    .dataframe thead th {\n",
       "        text-align: right;\n",
       "    }\n",
       "</style>\n",
       "<table border=\"1\" class=\"dataframe\">\n",
       "  <thead>\n",
       "    <tr style=\"text-align: right;\">\n",
       "      <th></th>\n",
       "      <th>Id</th>\n",
       "      <th>MSSubClass</th>\n",
       "      <th>MSZoning</th>\n",
       "      <th>LotFrontage</th>\n",
       "      <th>LotArea</th>\n",
       "      <th>Street</th>\n",
       "      <th>Alley</th>\n",
       "      <th>LotShape</th>\n",
       "      <th>LandContour</th>\n",
       "      <th>Utilities</th>\n",
       "      <th>...</th>\n",
       "      <th>ScreenPorch</th>\n",
       "      <th>PoolArea</th>\n",
       "      <th>PoolQC</th>\n",
       "      <th>Fence</th>\n",
       "      <th>MiscFeature</th>\n",
       "      <th>MiscVal</th>\n",
       "      <th>MoSold</th>\n",
       "      <th>YrSold</th>\n",
       "      <th>SaleType</th>\n",
       "      <th>SaleCondition</th>\n",
       "    </tr>\n",
       "  </thead>\n",
       "  <tbody>\n",
       "    <tr>\n",
       "      <th>0</th>\n",
       "      <td>1461</td>\n",
       "      <td>20</td>\n",
       "      <td>RH</td>\n",
       "      <td>80.0</td>\n",
       "      <td>11622</td>\n",
       "      <td>Pave</td>\n",
       "      <td>NaN</td>\n",
       "      <td>Reg</td>\n",
       "      <td>Lvl</td>\n",
       "      <td>AllPub</td>\n",
       "      <td>...</td>\n",
       "      <td>120</td>\n",
       "      <td>0</td>\n",
       "      <td>NaN</td>\n",
       "      <td>MnPrv</td>\n",
       "      <td>NaN</td>\n",
       "      <td>0</td>\n",
       "      <td>6</td>\n",
       "      <td>2010</td>\n",
       "      <td>WD</td>\n",
       "      <td>Normal</td>\n",
       "    </tr>\n",
       "    <tr>\n",
       "      <th>1</th>\n",
       "      <td>1462</td>\n",
       "      <td>20</td>\n",
       "      <td>RL</td>\n",
       "      <td>81.0</td>\n",
       "      <td>14267</td>\n",
       "      <td>Pave</td>\n",
       "      <td>NaN</td>\n",
       "      <td>IR1</td>\n",
       "      <td>Lvl</td>\n",
       "      <td>AllPub</td>\n",
       "      <td>...</td>\n",
       "      <td>0</td>\n",
       "      <td>0</td>\n",
       "      <td>NaN</td>\n",
       "      <td>NaN</td>\n",
       "      <td>Gar2</td>\n",
       "      <td>12500</td>\n",
       "      <td>6</td>\n",
       "      <td>2010</td>\n",
       "      <td>WD</td>\n",
       "      <td>Normal</td>\n",
       "    </tr>\n",
       "    <tr>\n",
       "      <th>2</th>\n",
       "      <td>1463</td>\n",
       "      <td>60</td>\n",
       "      <td>RL</td>\n",
       "      <td>74.0</td>\n",
       "      <td>13830</td>\n",
       "      <td>Pave</td>\n",
       "      <td>NaN</td>\n",
       "      <td>IR1</td>\n",
       "      <td>Lvl</td>\n",
       "      <td>AllPub</td>\n",
       "      <td>...</td>\n",
       "      <td>0</td>\n",
       "      <td>0</td>\n",
       "      <td>NaN</td>\n",
       "      <td>MnPrv</td>\n",
       "      <td>NaN</td>\n",
       "      <td>0</td>\n",
       "      <td>3</td>\n",
       "      <td>2010</td>\n",
       "      <td>WD</td>\n",
       "      <td>Normal</td>\n",
       "    </tr>\n",
       "    <tr>\n",
       "      <th>3</th>\n",
       "      <td>1464</td>\n",
       "      <td>60</td>\n",
       "      <td>RL</td>\n",
       "      <td>78.0</td>\n",
       "      <td>9978</td>\n",
       "      <td>Pave</td>\n",
       "      <td>NaN</td>\n",
       "      <td>IR1</td>\n",
       "      <td>Lvl</td>\n",
       "      <td>AllPub</td>\n",
       "      <td>...</td>\n",
       "      <td>0</td>\n",
       "      <td>0</td>\n",
       "      <td>NaN</td>\n",
       "      <td>NaN</td>\n",
       "      <td>NaN</td>\n",
       "      <td>0</td>\n",
       "      <td>6</td>\n",
       "      <td>2010</td>\n",
       "      <td>WD</td>\n",
       "      <td>Normal</td>\n",
       "    </tr>\n",
       "    <tr>\n",
       "      <th>4</th>\n",
       "      <td>1465</td>\n",
       "      <td>120</td>\n",
       "      <td>RL</td>\n",
       "      <td>43.0</td>\n",
       "      <td>5005</td>\n",
       "      <td>Pave</td>\n",
       "      <td>NaN</td>\n",
       "      <td>IR1</td>\n",
       "      <td>HLS</td>\n",
       "      <td>AllPub</td>\n",
       "      <td>...</td>\n",
       "      <td>144</td>\n",
       "      <td>0</td>\n",
       "      <td>NaN</td>\n",
       "      <td>NaN</td>\n",
       "      <td>NaN</td>\n",
       "      <td>0</td>\n",
       "      <td>1</td>\n",
       "      <td>2010</td>\n",
       "      <td>WD</td>\n",
       "      <td>Normal</td>\n",
       "    </tr>\n",
       "  </tbody>\n",
       "</table>\n",
       "<p>5 rows × 80 columns</p>\n",
       "</div>"
      ],
      "text/plain": [
       "     Id  MSSubClass MSZoning  LotFrontage  LotArea Street Alley LotShape  \\\n",
       "0  1461          20       RH         80.0    11622   Pave   NaN      Reg   \n",
       "1  1462          20       RL         81.0    14267   Pave   NaN      IR1   \n",
       "2  1463          60       RL         74.0    13830   Pave   NaN      IR1   \n",
       "3  1464          60       RL         78.0     9978   Pave   NaN      IR1   \n",
       "4  1465         120       RL         43.0     5005   Pave   NaN      IR1   \n",
       "\n",
       "  LandContour Utilities  ... ScreenPorch PoolArea PoolQC  Fence MiscFeature  \\\n",
       "0         Lvl    AllPub  ...         120        0    NaN  MnPrv         NaN   \n",
       "1         Lvl    AllPub  ...           0        0    NaN    NaN        Gar2   \n",
       "2         Lvl    AllPub  ...           0        0    NaN  MnPrv         NaN   \n",
       "3         Lvl    AllPub  ...           0        0    NaN    NaN         NaN   \n",
       "4         HLS    AllPub  ...         144        0    NaN    NaN         NaN   \n",
       "\n",
       "  MiscVal MoSold  YrSold  SaleType  SaleCondition  \n",
       "0       0      6    2010        WD         Normal  \n",
       "1   12500      6    2010        WD         Normal  \n",
       "2       0      3    2010        WD         Normal  \n",
       "3       0      6    2010        WD         Normal  \n",
       "4       0      1    2010        WD         Normal  \n",
       "\n",
       "[5 rows x 80 columns]"
      ]
     },
     "execution_count": 5,
     "metadata": {},
     "output_type": "execute_result"
    }
   ],
   "source": [
    "test_df.head()"
   ]
  },
  {
   "cell_type": "markdown",
   "id": "1d23cb97",
   "metadata": {},
   "source": [
    "Put data together so that the changes are done to both test and train set"
   ]
  },
  {
   "cell_type": "code",
   "execution_count": 6,
   "id": "dd038603",
   "metadata": {},
   "outputs": [
    {
     "name": "stdout",
     "output_type": "stream",
     "text": [
      "(2919, 80)\n"
     ]
    }
   ],
   "source": [
    "total_data = pd.concat((train_df, test_df)).reset_index(drop = True) \n",
    "total_data.drop(\"SalePrice\", axis=1, inplace = True)\n",
    "print(total_data.shape)"
   ]
  },
  {
   "cell_type": "markdown",
   "id": "c1f63d9a",
   "metadata": {},
   "source": [
    "#### Preprocessing"
   ]
  },
  {
   "cell_type": "markdown",
   "id": "eaee0f6f",
   "metadata": {},
   "source": [
    "Found code to drop columns with more that 5% null values"
   ]
  },
  {
   "cell_type": "code",
   "execution_count": 7,
   "id": "0208ddf7",
   "metadata": {},
   "outputs": [
    {
     "name": "stdout",
     "output_type": "stream",
     "text": [
      "Drop null value amount: 2774\n"
     ]
    }
   ],
   "source": [
    "mincount_null = len(total_data.index)-int((len(total_data.index)*5)/100)\n",
    "print(\"Drop null value amount: {}\".format(mincount_null))"
   ]
  },
  {
   "cell_type": "code",
   "execution_count": 8,
   "id": "5190fc2b",
   "metadata": {},
   "outputs": [
    {
     "name": "stdout",
     "output_type": "stream",
     "text": [
      "<class 'pandas.core.frame.DataFrame'>\n",
      "RangeIndex: 2919 entries, 0 to 2918\n",
      "Data columns (total 69 columns):\n",
      " #   Column         Non-Null Count  Dtype  \n",
      "---  ------         --------------  -----  \n",
      " 0   Id             2919 non-null   int64  \n",
      " 1   MSSubClass     2919 non-null   int64  \n",
      " 2   MSZoning       2915 non-null   object \n",
      " 3   LotArea        2919 non-null   int64  \n",
      " 4   Street         2919 non-null   object \n",
      " 5   LotShape       2919 non-null   object \n",
      " 6   LandContour    2919 non-null   object \n",
      " 7   Utilities      2917 non-null   object \n",
      " 8   LotConfig      2919 non-null   object \n",
      " 9   LandSlope      2919 non-null   object \n",
      " 10  Neighborhood   2919 non-null   object \n",
      " 11  Condition1     2919 non-null   object \n",
      " 12  Condition2     2919 non-null   object \n",
      " 13  BldgType       2919 non-null   object \n",
      " 14  HouseStyle     2919 non-null   object \n",
      " 15  OverallQual    2919 non-null   int64  \n",
      " 16  OverallCond    2919 non-null   int64  \n",
      " 17  YearBuilt      2919 non-null   int64  \n",
      " 18  YearRemodAdd   2919 non-null   int64  \n",
      " 19  RoofStyle      2919 non-null   object \n",
      " 20  RoofMatl       2919 non-null   object \n",
      " 21  Exterior1st    2918 non-null   object \n",
      " 22  Exterior2nd    2918 non-null   object \n",
      " 23  MasVnrType     2895 non-null   object \n",
      " 24  MasVnrArea     2896 non-null   float64\n",
      " 25  ExterQual      2919 non-null   object \n",
      " 26  ExterCond      2919 non-null   object \n",
      " 27  Foundation     2919 non-null   object \n",
      " 28  BsmtQual       2838 non-null   object \n",
      " 29  BsmtCond       2837 non-null   object \n",
      " 30  BsmtExposure   2837 non-null   object \n",
      " 31  BsmtFinType1   2840 non-null   object \n",
      " 32  BsmtFinSF1     2918 non-null   float64\n",
      " 33  BsmtFinType2   2839 non-null   object \n",
      " 34  BsmtFinSF2     2918 non-null   float64\n",
      " 35  BsmtUnfSF      2918 non-null   float64\n",
      " 36  TotalBsmtSF    2918 non-null   float64\n",
      " 37  Heating        2919 non-null   object \n",
      " 38  HeatingQC      2919 non-null   object \n",
      " 39  CentralAir     2919 non-null   object \n",
      " 40  Electrical     2918 non-null   object \n",
      " 41  1stFlrSF       2919 non-null   int64  \n",
      " 42  2ndFlrSF       2919 non-null   int64  \n",
      " 43  LowQualFinSF   2919 non-null   int64  \n",
      " 44  GrLivArea      2919 non-null   int64  \n",
      " 45  BsmtFullBath   2917 non-null   float64\n",
      " 46  BsmtHalfBath   2917 non-null   float64\n",
      " 47  FullBath       2919 non-null   int64  \n",
      " 48  HalfBath       2919 non-null   int64  \n",
      " 49  BedroomAbvGr   2919 non-null   int64  \n",
      " 50  KitchenAbvGr   2919 non-null   int64  \n",
      " 51  KitchenQual    2918 non-null   object \n",
      " 52  TotRmsAbvGrd   2919 non-null   int64  \n",
      " 53  Functional     2917 non-null   object \n",
      " 54  Fireplaces     2919 non-null   int64  \n",
      " 55  GarageCars     2918 non-null   float64\n",
      " 56  GarageArea     2918 non-null   float64\n",
      " 57  PavedDrive     2919 non-null   object \n",
      " 58  WoodDeckSF     2919 non-null   int64  \n",
      " 59  OpenPorchSF    2919 non-null   int64  \n",
      " 60  EnclosedPorch  2919 non-null   int64  \n",
      " 61  3SsnPorch      2919 non-null   int64  \n",
      " 62  ScreenPorch    2919 non-null   int64  \n",
      " 63  PoolArea       2919 non-null   int64  \n",
      " 64  MiscVal        2919 non-null   int64  \n",
      " 65  MoSold         2919 non-null   int64  \n",
      " 66  YrSold         2919 non-null   int64  \n",
      " 67  SaleType       2918 non-null   object \n",
      " 68  SaleCondition  2919 non-null   object \n",
      "dtypes: float64(9), int64(26), object(34)\n",
      "memory usage: 1.5+ MB\n"
     ]
    }
   ],
   "source": [
    "#the columns we are left with: \n",
    "total_data.dropna(axis=1,thresh=mincount_null).info()"
   ]
  },
  {
   "cell_type": "code",
   "execution_count": 9,
   "id": "e9219763",
   "metadata": {},
   "outputs": [
    {
     "data": {
      "text/plain": [
       "(2919, 69)"
      ]
     },
     "execution_count": 9,
     "metadata": {},
     "output_type": "execute_result"
    }
   ],
   "source": [
    "dropped = ['LotFrontage','Alley','FireplaceQu','GarageType','GarageYrBlt','GarageFinish',\n",
    "           'GarageQual','GarageCond','PoolQC','Fence','MiscFeature']\n",
    "total_data.drop(dropped,axis=1,inplace=True)\n",
    "total_data.shape"
   ]
  },
  {
   "cell_type": "code",
   "execution_count": 10,
   "id": "a193ccc7",
   "metadata": {},
   "outputs": [
    {
     "ename": "NameError",
     "evalue": "name 'MSSubClass' is not defined",
     "output_type": "error",
     "traceback": [
      "\u001b[0;31m---------------------------------------------------------------------------\u001b[0m",
      "\u001b[0;31mNameError\u001b[0m                                 Traceback (most recent call last)",
      "\u001b[0;32m/tmp/ipykernel_485/3265253875.py\u001b[0m in \u001b[0;36m<module>\u001b[0;34m\u001b[0m\n\u001b[1;32m      2\u001b[0m \u001b[0;31m#Values that are numbers, but represent years, quality, etc.\u001b[0m\u001b[0;34m\u001b[0m\u001b[0;34m\u001b[0m\u001b[0;34m\u001b[0m\u001b[0m\n\u001b[1;32m      3\u001b[0m \u001b[0;31m#Not ordinal values\u001b[0m\u001b[0;34m\u001b[0m\u001b[0;34m\u001b[0m\u001b[0;34m\u001b[0m\u001b[0m\n\u001b[0;32m----> 4\u001b[0;31m \u001b[0mMSSubClass\u001b[0m\u001b[0;34m\u001b[0m\u001b[0;34m\u001b[0m\u001b[0m\n\u001b[0m\u001b[1;32m      5\u001b[0m \u001b[0mOverallQual\u001b[0m\u001b[0;34m\u001b[0m\u001b[0;34m\u001b[0m\u001b[0m\n\u001b[1;32m      6\u001b[0m \u001b[0mOverallCond\u001b[0m\u001b[0;34m\u001b[0m\u001b[0;34m\u001b[0m\u001b[0m\n",
      "\u001b[0;31mNameError\u001b[0m: name 'MSSubClass' is not defined"
     ]
    }
   ],
   "source": [
    "#Categorical\n",
    "#Values that are numbers, but represent years, quality, etc.\n",
    "#Not ordinal values\n",
    "MSSubClass\n",
    "OverallQual\n",
    "OverallCond\n",
    "YearBuilt\n",
    "YearRemodAdd\n",
    "MoSold\n",
    "YrSold"
   ]
  },
  {
   "cell_type": "code",
   "execution_count": 11,
   "id": "ca23823f",
   "metadata": {},
   "outputs": [
    {
     "ename": "NameError",
     "evalue": "name 'Street' is not defined",
     "output_type": "error",
     "traceback": [
      "\u001b[0;31m---------------------------------------------------------------------------\u001b[0m",
      "\u001b[0;31mNameError\u001b[0m                                 Traceback (most recent call last)",
      "\u001b[0;32m/tmp/ipykernel_485/3745543439.py\u001b[0m in \u001b[0;36m<module>\u001b[0;34m\u001b[0m\n\u001b[1;32m      1\u001b[0m \u001b[0;31m# Find features with ordianl scales (not numerical)\u001b[0m\u001b[0;34m\u001b[0m\u001b[0;34m\u001b[0m\u001b[0;34m\u001b[0m\u001b[0m\n\u001b[0;32m----> 2\u001b[0;31m \u001b[0mStreet\u001b[0m\u001b[0;34m\u001b[0m\u001b[0;34m\u001b[0m\u001b[0m\n\u001b[0m\u001b[1;32m      3\u001b[0m \u001b[0mLotShape\u001b[0m\u001b[0;34m\u001b[0m\u001b[0;34m\u001b[0m\u001b[0m\n\u001b[1;32m      4\u001b[0m \u001b[0mUtilities\u001b[0m\u001b[0;34m\u001b[0m\u001b[0;34m\u001b[0m\u001b[0m\n\u001b[1;32m      5\u001b[0m \u001b[0mLandSlope\u001b[0m\u001b[0;34m\u001b[0m\u001b[0;34m\u001b[0m\u001b[0m\n",
      "\u001b[0;31mNameError\u001b[0m: name 'Street' is not defined"
     ]
    }
   ],
   "source": [
    "# Find features with ordianl scales (not numerical)\n",
    "Street\n",
    "LotShape\n",
    "Utilities\n",
    "LandSlope\n",
    "ExterQual\n",
    "ExterCond\n",
    "BsmtQual\n",
    "BsmtCond\n",
    "BsmtExposure\n",
    "BsmtFinType1\n",
    "BsmtFinType2\n",
    "HeatingQC\n",
    "KitchenQual\n",
    "Foundation\n",
    "CentralAir\n",
    "PavedDrive\n",
    "SaleCondition\n",
    "SaleType"
   ]
  },
  {
   "cell_type": "code",
   "execution_count": 12,
   "id": "c7b78c54",
   "metadata": {},
   "outputs": [],
   "source": [
    "non_ord_cols = ['MSZoning','LandContour','LotConfig','MSSubClass','OverallQual',\n",
    "                'OverallCond','YearBuilt','LandSlope', 'RoofStyle','RoofMatl','Exterior1st',\n",
    "                'MasVnrType','Heating','YearRemodAdd','MoSold','YrSold']"
   ]
  },
  {
   "cell_type": "code",
   "execution_count": 13,
   "id": "723c8702",
   "metadata": {},
   "outputs": [],
   "source": [
    "ordinal_cols = ['Street','LotShape','Utilities','LandSlope','ExterQual','ExterCond',\n",
    "               'BsmtQual','BsmtCond','BsmtExposure','BsmtFinType1','BsmtFinType2',\n",
    "               'HeatingQC','KitchenQual','Foundation','CentralAir','Electrical',\n",
    "               'PavedDrive','SaleCondition','SaleType']"
   ]
  },
  {
   "cell_type": "code",
   "execution_count": 14,
   "id": "b3afb045",
   "metadata": {},
   "outputs": [
    {
     "data": {
      "text/plain": [
       "(2919, 69)"
      ]
     },
     "execution_count": 14,
     "metadata": {},
     "output_type": "execute_result"
    }
   ],
   "source": [
    "# Found functions that will assign categorical variables a number \n",
    "\n",
    "# for ordianl\n",
    "for feature in ordinal_cols:\n",
    "    total_data[feature] = LabelEncoder().fit_transform(total_data[feature]) #return encoded labels\n",
    "total_data.shape"
   ]
  },
  {
   "cell_type": "code",
   "execution_count": 15,
   "id": "c27cab56",
   "metadata": {},
   "outputs": [
    {
     "data": {
      "text/plain": [
       "(2919, 356)"
      ]
     },
     "execution_count": 15,
     "metadata": {},
     "output_type": "execute_result"
    }
   ],
   "source": [
    "for feature in non_ord_cols:\n",
    "    one_hot = pd.get_dummies(total_data[feature],prefix=feature)\n",
    "    total_data = pd.merge(left=total_data,right=one_hot,left_index=True,right_index=True)\n",
    "total_data.shape"
   ]
  },
  {
   "cell_type": "code",
   "execution_count": 16,
   "id": "b2f701c4",
   "metadata": {},
   "outputs": [
    {
     "data": {
      "text/html": [
       "<div>\n",
       "<style scoped>\n",
       "    .dataframe tbody tr th:only-of-type {\n",
       "        vertical-align: middle;\n",
       "    }\n",
       "\n",
       "    .dataframe tbody tr th {\n",
       "        vertical-align: top;\n",
       "    }\n",
       "\n",
       "    .dataframe thead th {\n",
       "        text-align: right;\n",
       "    }\n",
       "</style>\n",
       "<table border=\"1\" class=\"dataframe\">\n",
       "  <thead>\n",
       "    <tr style=\"text-align: right;\">\n",
       "      <th></th>\n",
       "      <th>Id</th>\n",
       "      <th>LotArea</th>\n",
       "      <th>Street</th>\n",
       "      <th>LotShape</th>\n",
       "      <th>Utilities</th>\n",
       "      <th>Neighborhood</th>\n",
       "      <th>Condition1</th>\n",
       "      <th>Condition2</th>\n",
       "      <th>BldgType</th>\n",
       "      <th>HouseStyle</th>\n",
       "      <th>...</th>\n",
       "      <th>MoSold_8</th>\n",
       "      <th>MoSold_9</th>\n",
       "      <th>MoSold_10</th>\n",
       "      <th>MoSold_11</th>\n",
       "      <th>MoSold_12</th>\n",
       "      <th>YrSold_2006</th>\n",
       "      <th>YrSold_2007</th>\n",
       "      <th>YrSold_2008</th>\n",
       "      <th>YrSold_2009</th>\n",
       "      <th>YrSold_2010</th>\n",
       "    </tr>\n",
       "  </thead>\n",
       "  <tbody>\n",
       "    <tr>\n",
       "      <th>0</th>\n",
       "      <td>1</td>\n",
       "      <td>8450</td>\n",
       "      <td>1</td>\n",
       "      <td>3</td>\n",
       "      <td>0</td>\n",
       "      <td>CollgCr</td>\n",
       "      <td>Norm</td>\n",
       "      <td>Norm</td>\n",
       "      <td>1Fam</td>\n",
       "      <td>2Story</td>\n",
       "      <td>...</td>\n",
       "      <td>0</td>\n",
       "      <td>0</td>\n",
       "      <td>0</td>\n",
       "      <td>0</td>\n",
       "      <td>0</td>\n",
       "      <td>0</td>\n",
       "      <td>0</td>\n",
       "      <td>1</td>\n",
       "      <td>0</td>\n",
       "      <td>0</td>\n",
       "    </tr>\n",
       "    <tr>\n",
       "      <th>1</th>\n",
       "      <td>2</td>\n",
       "      <td>9600</td>\n",
       "      <td>1</td>\n",
       "      <td>3</td>\n",
       "      <td>0</td>\n",
       "      <td>Veenker</td>\n",
       "      <td>Feedr</td>\n",
       "      <td>Norm</td>\n",
       "      <td>1Fam</td>\n",
       "      <td>1Story</td>\n",
       "      <td>...</td>\n",
       "      <td>0</td>\n",
       "      <td>0</td>\n",
       "      <td>0</td>\n",
       "      <td>0</td>\n",
       "      <td>0</td>\n",
       "      <td>0</td>\n",
       "      <td>1</td>\n",
       "      <td>0</td>\n",
       "      <td>0</td>\n",
       "      <td>0</td>\n",
       "    </tr>\n",
       "    <tr>\n",
       "      <th>2</th>\n",
       "      <td>3</td>\n",
       "      <td>11250</td>\n",
       "      <td>1</td>\n",
       "      <td>0</td>\n",
       "      <td>0</td>\n",
       "      <td>CollgCr</td>\n",
       "      <td>Norm</td>\n",
       "      <td>Norm</td>\n",
       "      <td>1Fam</td>\n",
       "      <td>2Story</td>\n",
       "      <td>...</td>\n",
       "      <td>0</td>\n",
       "      <td>1</td>\n",
       "      <td>0</td>\n",
       "      <td>0</td>\n",
       "      <td>0</td>\n",
       "      <td>0</td>\n",
       "      <td>0</td>\n",
       "      <td>1</td>\n",
       "      <td>0</td>\n",
       "      <td>0</td>\n",
       "    </tr>\n",
       "    <tr>\n",
       "      <th>3</th>\n",
       "      <td>4</td>\n",
       "      <td>9550</td>\n",
       "      <td>1</td>\n",
       "      <td>0</td>\n",
       "      <td>0</td>\n",
       "      <td>Crawfor</td>\n",
       "      <td>Norm</td>\n",
       "      <td>Norm</td>\n",
       "      <td>1Fam</td>\n",
       "      <td>2Story</td>\n",
       "      <td>...</td>\n",
       "      <td>0</td>\n",
       "      <td>0</td>\n",
       "      <td>0</td>\n",
       "      <td>0</td>\n",
       "      <td>0</td>\n",
       "      <td>1</td>\n",
       "      <td>0</td>\n",
       "      <td>0</td>\n",
       "      <td>0</td>\n",
       "      <td>0</td>\n",
       "    </tr>\n",
       "    <tr>\n",
       "      <th>4</th>\n",
       "      <td>5</td>\n",
       "      <td>14260</td>\n",
       "      <td>1</td>\n",
       "      <td>0</td>\n",
       "      <td>0</td>\n",
       "      <td>NoRidge</td>\n",
       "      <td>Norm</td>\n",
       "      <td>Norm</td>\n",
       "      <td>1Fam</td>\n",
       "      <td>2Story</td>\n",
       "      <td>...</td>\n",
       "      <td>0</td>\n",
       "      <td>0</td>\n",
       "      <td>0</td>\n",
       "      <td>0</td>\n",
       "      <td>1</td>\n",
       "      <td>0</td>\n",
       "      <td>0</td>\n",
       "      <td>1</td>\n",
       "      <td>0</td>\n",
       "      <td>0</td>\n",
       "    </tr>\n",
       "  </tbody>\n",
       "</table>\n",
       "<p>5 rows × 340 columns</p>\n",
       "</div>"
      ],
      "text/plain": [
       "   Id  LotArea  Street  LotShape  Utilities Neighborhood Condition1  \\\n",
       "0   1     8450       1         3          0      CollgCr       Norm   \n",
       "1   2     9600       1         3          0      Veenker      Feedr   \n",
       "2   3    11250       1         0          0      CollgCr       Norm   \n",
       "3   4     9550       1         0          0      Crawfor       Norm   \n",
       "4   5    14260       1         0          0      NoRidge       Norm   \n",
       "\n",
       "  Condition2 BldgType HouseStyle  ... MoSold_8  MoSold_9  MoSold_10  \\\n",
       "0       Norm     1Fam     2Story  ...        0         0          0   \n",
       "1       Norm     1Fam     1Story  ...        0         0          0   \n",
       "2       Norm     1Fam     2Story  ...        0         1          0   \n",
       "3       Norm     1Fam     2Story  ...        0         0          0   \n",
       "4       Norm     1Fam     2Story  ...        0         0          0   \n",
       "\n",
       "   MoSold_11  MoSold_12  YrSold_2006  YrSold_2007  YrSold_2008  YrSold_2009  \\\n",
       "0          0          0            0            0            1            0   \n",
       "1          0          0            0            1            0            0   \n",
       "2          0          0            0            0            1            0   \n",
       "3          0          0            1            0            0            0   \n",
       "4          0          1            0            0            1            0   \n",
       "\n",
       "   YrSold_2010  \n",
       "0            0  \n",
       "1            0  \n",
       "2            0  \n",
       "3            0  \n",
       "4            0  \n",
       "\n",
       "[5 rows x 340 columns]"
      ]
     },
     "execution_count": 16,
     "metadata": {},
     "output_type": "execute_result"
    }
   ],
   "source": [
    "total_data.drop(non_ord_cols,axis=1,inplace=True)\n",
    "total_data.head()"
   ]
  },
  {
   "cell_type": "code",
   "execution_count": 17,
   "id": "bb027210",
   "metadata": {},
   "outputs": [],
   "source": [
    "redundant_features = ['Neighborhood','Condition1','Condition2','BldgType',\n",
    "                      'HouseStyle','Exterior2nd','ExterQual','Functional']\n",
    "total_data.drop(redundant_features, axis=1, inplace=True)"
   ]
  },
  {
   "cell_type": "code",
   "execution_count": 18,
   "id": "f1e160b2",
   "metadata": {},
   "outputs": [
    {
     "data": {
      "text/html": [
       "<div>\n",
       "<style scoped>\n",
       "    .dataframe tbody tr th:only-of-type {\n",
       "        vertical-align: middle;\n",
       "    }\n",
       "\n",
       "    .dataframe tbody tr th {\n",
       "        vertical-align: top;\n",
       "    }\n",
       "\n",
       "    .dataframe thead th {\n",
       "        text-align: right;\n",
       "    }\n",
       "</style>\n",
       "<table border=\"1\" class=\"dataframe\">\n",
       "  <thead>\n",
       "    <tr style=\"text-align: right;\">\n",
       "      <th></th>\n",
       "      <th>column_name</th>\n",
       "      <th>percent_missing</th>\n",
       "    </tr>\n",
       "  </thead>\n",
       "  <tbody>\n",
       "    <tr>\n",
       "      <th>MasVnrArea</th>\n",
       "      <td>MasVnrArea</td>\n",
       "      <td>0.787941</td>\n",
       "    </tr>\n",
       "    <tr>\n",
       "      <th>BsmtFullBath</th>\n",
       "      <td>BsmtFullBath</td>\n",
       "      <td>0.068517</td>\n",
       "    </tr>\n",
       "    <tr>\n",
       "      <th>BsmtHalfBath</th>\n",
       "      <td>BsmtHalfBath</td>\n",
       "      <td>0.068517</td>\n",
       "    </tr>\n",
       "    <tr>\n",
       "      <th>BsmtUnfSF</th>\n",
       "      <td>BsmtUnfSF</td>\n",
       "      <td>0.034258</td>\n",
       "    </tr>\n",
       "    <tr>\n",
       "      <th>GarageCars</th>\n",
       "      <td>GarageCars</td>\n",
       "      <td>0.034258</td>\n",
       "    </tr>\n",
       "    <tr>\n",
       "      <th>GarageArea</th>\n",
       "      <td>GarageArea</td>\n",
       "      <td>0.034258</td>\n",
       "    </tr>\n",
       "    <tr>\n",
       "      <th>BsmtFinSF1</th>\n",
       "      <td>BsmtFinSF1</td>\n",
       "      <td>0.034258</td>\n",
       "    </tr>\n",
       "    <tr>\n",
       "      <th>TotalBsmtSF</th>\n",
       "      <td>TotalBsmtSF</td>\n",
       "      <td>0.034258</td>\n",
       "    </tr>\n",
       "    <tr>\n",
       "      <th>BsmtFinSF2</th>\n",
       "      <td>BsmtFinSF2</td>\n",
       "      <td>0.034258</td>\n",
       "    </tr>\n",
       "    <tr>\n",
       "      <th>RoofMatl_WdShngl</th>\n",
       "      <td>RoofMatl_WdShngl</td>\n",
       "      <td>0.000000</td>\n",
       "    </tr>\n",
       "  </tbody>\n",
       "</table>\n",
       "</div>"
      ],
      "text/plain": [
       "                       column_name  percent_missing\n",
       "MasVnrArea              MasVnrArea         0.787941\n",
       "BsmtFullBath          BsmtFullBath         0.068517\n",
       "BsmtHalfBath          BsmtHalfBath         0.068517\n",
       "BsmtUnfSF                BsmtUnfSF         0.034258\n",
       "GarageCars              GarageCars         0.034258\n",
       "GarageArea              GarageArea         0.034258\n",
       "BsmtFinSF1              BsmtFinSF1         0.034258\n",
       "TotalBsmtSF            TotalBsmtSF         0.034258\n",
       "BsmtFinSF2              BsmtFinSF2         0.034258\n",
       "RoofMatl_WdShngl  RoofMatl_WdShngl         0.000000"
      ]
     },
     "execution_count": 18,
     "metadata": {},
     "output_type": "execute_result"
    }
   ],
   "source": [
    "# found function to tell us how much info we are missing\n",
    "percent_missing = total_data.isnull().sum() * 100 / len(total_data)\n",
    "missing_df = pd.DataFrame({'column_name': total_data.columns,\n",
    "                                 'percent_missing': percent_missing})\n",
    "\n",
    "missing_df.sort_values('percent_missing', ascending = False, inplace=True)\n",
    "\n",
    "#show first 10\n",
    "missing_df[:10]"
   ]
  },
  {
   "cell_type": "code",
   "execution_count": 19,
   "id": "bbd26d19",
   "metadata": {},
   "outputs": [],
   "source": [
    "total_data = total_data.fillna(0)"
   ]
  },
  {
   "cell_type": "code",
   "execution_count": 20,
   "id": "a9367ce1",
   "metadata": {},
   "outputs": [
    {
     "name": "stdout",
     "output_type": "stream",
     "text": [
      "<class 'pandas.core.frame.DataFrame'>\n",
      "RangeIndex: 2919 entries, 0 to 2918\n",
      "Columns: 332 entries, Id to YrSold_2010\n",
      "dtypes: int64(45), uint8(287)\n",
      "memory usage: 1.8 MB\n"
     ]
    }
   ],
   "source": [
    "#turn strings into int\n",
    "total_data['MasVnrArea'] = total_data['MasVnrArea'].astype(int)\n",
    "total_data['BsmtFinSF1'] = total_data['BsmtFinSF1'].astype(int)\n",
    "total_data['BsmtFinSF2'] = total_data['BsmtFinSF2'].astype(int)\n",
    "total_data['BsmtUnfSF'] = total_data['BsmtUnfSF'].astype(int)\n",
    "total_data['TotalBsmtSF'] = total_data['TotalBsmtSF'].astype(int)\n",
    "total_data['BsmtFullBath'] = total_data['BsmtFullBath'].astype(int)\n",
    "total_data['BsmtHalfBath'] = total_data['BsmtHalfBath'].astype(int)\n",
    "total_data['GarageCars'] = total_data['GarageCars'].astype(int)\n",
    "total_data['GarageArea'] = total_data['GarageArea'].astype(int)\n",
    "\n",
    "total_data.info()"
   ]
  },
  {
   "cell_type": "markdown",
   "id": "64b0277f",
   "metadata": {},
   "source": [
    "#### 3 Algorithms + PCA graph"
   ]
  },
  {
   "cell_type": "code",
   "execution_count": 21,
   "id": "09dd78cc",
   "metadata": {},
   "outputs": [],
   "source": [
    "total_data.drop(['Id'],axis = 1, inplace = True)"
   ]
  },
  {
   "cell_type": "code",
   "execution_count": 22,
   "id": "f6e4d0eb",
   "metadata": {},
   "outputs": [],
   "source": [
    "X_train = total_data[:1460]\n",
    "X_test = total_data[1460:]\n",
    "for_train = total_data[1460:]\n",
    "y = pd.DataFrame(data = train_df['SalePrice'])"
   ]
  },
  {
   "cell_type": "code",
   "execution_count": 23,
   "id": "96a2e1da",
   "metadata": {},
   "outputs": [
    {
     "data": {
      "text/plain": [
       "((1460, 331), (1459, 331))"
      ]
     },
     "execution_count": 23,
     "metadata": {},
     "output_type": "execute_result"
    }
   ],
   "source": [
    "X_train.shape, X_test.shape"
   ]
  },
  {
   "cell_type": "code",
   "execution_count": 24,
   "id": "73320100",
   "metadata": {},
   "outputs": [],
   "source": [
    "# Making the graph\n",
    "X = StandardScaler().fit_transform(X_train) #tranform data to have mean = 0 and sd = 1\n",
    "\n",
    "pca_X = PCA(n_components = 331) #number of components\n",
    "X = pca_X.fit_transform(X)"
   ]
  },
  {
   "cell_type": "code",
   "execution_count": 25,
   "id": "451f33fe",
   "metadata": {},
   "outputs": [],
   "source": [
    "#variance of each component\n",
    "explained_var = pca_X.explained_variance_ratio_"
   ]
  },
  {
   "cell_type": "code",
   "execution_count": 28,
   "id": "39512f23",
   "metadata": {},
   "outputs": [
    {
     "data": {
      "image/png": "[encoded data removed]",
      "text/plain": [
       "<Figure size 432x288 with 1 Axes>"
      ]
     },
     "metadata": {
      "needs_background": "light"
     },
     "output_type": "display_data"
    }
   ],
   "source": [
    "plt.figure()\n",
    "plt.plot(np.cumsum(pca_X.explained_variance_ratio_),color = 'red')\n",
    "plt.ylabel('Explained Variance')\n",
    "plt.xlabel('Principal Components')\n",
    "plt.title('Explained Variance Ratio')\n",
    "plt.show()\n",
    "## So, we can use around 150 - 200 features and we will get a good variance."
   ]
  },
  {
   "cell_type": "code",
   "execution_count": 27,
   "id": "0fa4f44e",
   "metadata": {},
   "outputs": [
    {
     "data": {
      "text/plain": [
       "((730, 331), (730, 331), (730, 1), (730, 1))"
      ]
     },
     "execution_count": 27,
     "metadata": {},
     "output_type": "execute_result"
    }
   ],
   "source": [
    "#split data \n",
    "x_train, x_test, y_train, y_test = train_test_split(X_train, y, test_size = 0.5)\n",
    "x_train.shape, x_test.shape, y_train.shape, y_test.shape,"
   ]
  },
  {
   "cell_type": "code",
   "execution_count": 29,
   "id": "36ad501b",
   "metadata": {},
   "outputs": [
    {
     "data": {
      "text/plain": [
       "-1251830206.0487263"
      ]
     },
     "execution_count": 29,
     "metadata": {},
     "output_type": "execute_result"
    }
   ],
   "source": [
    "# Linear Regression \n",
    "\n",
    "reg = LinearRegression()\n",
    "reg.fit(x_train, y_train)\n",
    "y_pred = reg.predict(x_test)\n",
    "lr = reg.score(x_test, y_test)\n",
    "reg.score(x_test, y_test)"
   ]
  },
  {
   "cell_type": "code",
   "execution_count": 34,
   "id": "0283f1b3",
   "metadata": {},
   "outputs": [
    {
     "data": {
      "image/png": "[encoded data removed]",
      "text/plain": [
       "<Figure size 432x288 with 1 Axes>"
      ]
     },
     "metadata": {
      "needs_background": "light"
     },
     "output_type": "display_data"
    }
   ],
   "source": [
    "plt.plot(y_train, label='training')\n",
    "plt.plot(y_pred, label='prediction')\n",
    "plt.legend()\n",
    "plt.show()"
   ]
  },
  {
   "cell_type": "code",
   "execution_count": 30,
   "id": "f6f859df",
   "metadata": {},
   "outputs": [
    {
     "name": "stderr",
     "output_type": "stream",
     "text": [
      "/home/kenyag77/.local/lib/python3.8/site-packages/sklearn/linear_model/_coordinate_descent.py:647: ConvergenceWarning: Objective did not converge. You might want to increase the number of iterations, check the scale of the features or consider increasing regularisation. Duality gap: 2.084e+10, tolerance: 4.434e+08\n",
      "  model = cd_fast.enet_coordinate_descent(\n",
      "/home/kenyag77/.local/lib/python3.8/site-packages/sklearn/linear_model/_coordinate_descent.py:647: ConvergenceWarning: Objective did not converge. You might want to increase the number of iterations, check the scale of the features or consider increasing regularisation. Duality gap: 2.084e+10, tolerance: 4.434e+08\n",
      "  model = cd_fast.enet_coordinate_descent(\n"
     ]
    },
    {
     "data": {
      "text/plain": [
       "0.8077661905828253"
      ]
     },
     "execution_count": 30,
     "metadata": {},
     "output_type": "execute_result"
    }
   ],
   "source": [
    "# Lasso\n",
    "lasso = Lasso(alpha=1.0)\n",
    "lasso.fit(x_train, y_train)\n",
    "lasso_coef = lasso.fit(x_train,y_train).coef_\n",
    "y_pred_lss = lasso.predict(x_test)\n",
    "lassoscore = lasso.score(x_test,y_test)\n",
    "lasso.score(x_test,y_test)"
   ]
  },
  {
   "cell_type": "code",
   "execution_count": 36,
   "id": "5565a77c",
   "metadata": {},
   "outputs": [
    {
     "data": {
      "image/png": "[encoded data removed]",
      "text/plain": [
       "<Figure size 432x288 with 1 Axes>"
      ]
     },
     "metadata": {
      "needs_background": "light"
     },
     "output_type": "display_data"
    }
   ],
   "source": [
    "plt.plot(y_train, label='training')\n",
    "plt.plot(y_pred_lss, label='prediction')\n",
    "plt.legend()\n",
    "plt.show()"
   ]
  },
  {
   "cell_type": "code",
   "execution_count": 31,
   "id": "4484ee36",
   "metadata": {},
   "outputs": [
    {
     "data": {
      "text/plain": [
       "0.8104594805769431"
      ]
     },
     "execution_count": 31,
     "metadata": {},
     "output_type": "execute_result"
    }
   ],
   "source": [
    "## Ridge Regression \n",
    "ridge = Ridge(alpha = 0.1)\n",
    "ridge.fit(x_train, y_train)    \n",
    "y_pred_ridge = ridge.predict(x_test) #the answers\n",
    "ypr = ridge.predict(x_train) \n",
    "rs = ridge.score(x_test, y_test)\n",
    "ridge.score(x_test, y_test)"
   ]
  },
  {
   "cell_type": "code",
   "execution_count": 39,
   "id": "023439ae",
   "metadata": {},
   "outputs": [
    {
     "data": {
      "text/plain": [
       "Text(0, 0.5, 'Prediction')"
      ]
     },
     "execution_count": 39,
     "metadata": {},
     "output_type": "execute_result"
    },
    {
     "data": {
      "image/png": "[encoded data removed]",
      "text/plain": [
       "<Figure size 432x288 with 1 Axes>"
      ]
     },
     "metadata": {
      "needs_background": "light"
     },
     "output_type": "display_data"
    }
   ],
   "source": [
    "plt.scatter(y_pred_ridge, ypr) \n",
    "plt.xlabel('True Values') \n",
    "plt.ylabel('Prediction')\n",
    "# Hmm, it seems like I have to make my data more linear next time. "
   ]
  },
  {
   "cell_type": "code",
   "execution_count": 40,
   "id": "4c14d0ab",
   "metadata": {},
   "outputs": [
    {
     "data": {
      "image/png": "[encoded data removed]",
      "text/plain": [
       "<Figure size 432x288 with 1 Axes>"
      ]
     },
     "metadata": {
      "needs_background": "light"
     },
     "output_type": "display_data"
    }
   ],
   "source": [
    "plt.plot(y_train, label='training')\n",
    "plt.plot(y_pred_ridge, label='prediction')\n",
    "plt.legend()\n",
    "plt.show()"
   ]
  },
  {
   "cell_type": "code",
   "execution_count": null,
   "id": "f69c4d18",
   "metadata": {},
   "outputs": [],
   "source": [
    "table = [['LinearRegression',rmse_log,rmse_log2],\n",
    "        ['RidgeRegression',rmse_rid,rmse_rid2],\n",
    "        ['LassoRegression',rmse_lss,rmse_lss2]]\n",
    "display(HTML(tabulate.tabulate(table, tablefmt='html', headers=[\"RMSE \",\"RMSE Log Error\"])))"
   ]
  },
  {
   "cell_type": "markdown",
   "id": "773986ea",
   "metadata": {},
   "source": [
    "Finding RMSE "
   ]
  },
  {
   "cell_type": "code",
   "execution_count": 42,
   "id": "1097ba65",
   "metadata": {},
   "outputs": [],
   "source": [
    "rmse_log = mean_squared_error(y_test, y_pred, squared= False)\n",
    "rmse_rid = mean_squared_error(y_test, y_pred_ridge, squared = False)\n",
    "rmse_lss = mean_squared_error(y_test, y_pred_lss, squared = False)\n",
    "\n",
    "rmse_log2 = np.sqrt(mean_squared_error(y_test, y_pred, squared=False))\n",
    "rmse_rid2 = np.sqrt(mean_squared_error(y_test, y_pred_ridge, squared=False))\n",
    "rmse_lss2 = np.sqrt(mean_squared_error(y_test, y_pred_lss, squared=False))"
   ]
  },
  {
   "cell_type": "code",
   "execution_count": 33,
   "id": "6c19d9e1",
   "metadata": {},
   "outputs": [
    {
     "data": {
      "text/html": [
       "<table>\n",
       "<thead>\n",
       "<tr><th>                </th><th style=\"text-align: right;\">      Scores</th></tr>\n",
       "</thead>\n",
       "<tbody>\n",
       "<tr><td>LinearRegression</td><td style=\"text-align: right;\">-1.25183e+09</td></tr>\n",
       "<tr><td>RidgeRegression </td><td style=\"text-align: right;\"> 0.807766   </td></tr>\n",
       "<tr><td>LassoRegression </td><td style=\"text-align: right;\"> 0.810459   </td></tr>\n",
       "</tbody>\n",
       "</table>"
      ],
      "text/plain": [
       "<IPython.core.display.HTML object>"
      ]
     },
     "metadata": {},
     "output_type": "display_data"
    }
   ],
   "source": [
    "table = [['LinearRegression', lr],\n",
    "        ['RidgeRegression', lassoscore],\n",
    "        ['LassoRegression',rs]]\n",
    "display(HTML(tabulate.tabulate(table, tablefmt='html', headers=['Scores'])))"
   ]
  },
  {
   "cell_type": "markdown",
   "id": "4444f030",
   "metadata": {},
   "source": [
    "Submit"
   ]
  },
  {
   "cell_type": "code",
   "execution_count": 46,
   "id": "3a31c6da",
   "metadata": {},
   "outputs": [],
   "source": [
    "y_predr = reg.predict(X_test)"
   ]
  },
  {
   "cell_type": "code",
   "execution_count": 47,
   "id": "34911807",
   "metadata": {},
   "outputs": [
    {
     "data": {
      "text/plain": [
       "(1459, 1)"
      ]
     },
     "execution_count": 47,
     "metadata": {},
     "output_type": "execute_result"
    }
   ],
   "source": [
    "y_predr.shape"
   ]
  },
  {
   "cell_type": "code",
   "execution_count": 48,
   "id": "e444c547",
   "metadata": {},
   "outputs": [],
   "source": [
    "Pred = pd.DataFrame(y_predr)\n",
    "Pred.columns = ['SalePrice']"
   ]
  },
  {
   "cell_type": "code",
   "execution_count": 49,
   "id": "b9d369ea",
   "metadata": {},
   "outputs": [],
   "source": [
    "ids = pd.DataFrame(test_df[\"Id\"])"
   ]
  },
  {
   "cell_type": "code",
   "execution_count": 52,
   "id": "6999b3c6",
   "metadata": {},
   "outputs": [
    {
     "data": {
      "text/html": [
       "<div>\n",
       "<style scoped>\n",
       "    .dataframe tbody tr th:only-of-type {\n",
       "        vertical-align: middle;\n",
       "    }\n",
       "\n",
       "    .dataframe tbody tr th {\n",
       "        vertical-align: top;\n",
       "    }\n",
       "\n",
       "    .dataframe thead th {\n",
       "        text-align: right;\n",
       "    }\n",
       "</style>\n",
       "<table border=\"1\" class=\"dataframe\">\n",
       "  <thead>\n",
       "    <tr style=\"text-align: right;\">\n",
       "      <th></th>\n",
       "      <th>Id</th>\n",
       "      <th>SalePrice</th>\n",
       "    </tr>\n",
       "  </thead>\n",
       "  <tbody>\n",
       "    <tr>\n",
       "      <th>0</th>\n",
       "      <td>1461</td>\n",
       "      <td>118876.330917</td>\n",
       "    </tr>\n",
       "    <tr>\n",
       "      <th>1</th>\n",
       "      <td>1462</td>\n",
       "      <td>127662.330917</td>\n",
       "    </tr>\n",
       "    <tr>\n",
       "      <th>2</th>\n",
       "      <td>1463</td>\n",
       "      <td>191586.330917</td>\n",
       "    </tr>\n",
       "    <tr>\n",
       "      <th>3</th>\n",
       "      <td>1464</td>\n",
       "      <td>189502.330917</td>\n",
       "    </tr>\n",
       "    <tr>\n",
       "      <th>4</th>\n",
       "      <td>1465</td>\n",
       "      <td>198641.330917</td>\n",
       "    </tr>\n",
       "    <tr>\n",
       "      <th>5</th>\n",
       "      <td>1466</td>\n",
       "      <td>137811.330917</td>\n",
       "    </tr>\n",
       "    <tr>\n",
       "      <th>6</th>\n",
       "      <td>1467</td>\n",
       "      <td>169590.330917</td>\n",
       "    </tr>\n",
       "    <tr>\n",
       "      <th>7</th>\n",
       "      <td>1468</td>\n",
       "      <td>158744.330917</td>\n",
       "    </tr>\n",
       "    <tr>\n",
       "      <th>8</th>\n",
       "      <td>1469</td>\n",
       "      <td>181711.330917</td>\n",
       "    </tr>\n",
       "    <tr>\n",
       "      <th>9</th>\n",
       "      <td>1470</td>\n",
       "      <td>114784.330917</td>\n",
       "    </tr>\n",
       "  </tbody>\n",
       "</table>\n",
       "</div>"
      ],
      "text/plain": [
       "     Id      SalePrice\n",
       "0  1461  118876.330917\n",
       "1  1462  127662.330917\n",
       "2  1463  191586.330917\n",
       "3  1464  189502.330917\n",
       "4  1465  198641.330917\n",
       "5  1466  137811.330917\n",
       "6  1467  169590.330917\n",
       "7  1468  158744.330917\n",
       "8  1469  181711.330917\n",
       "9  1470  114784.330917"
      ]
     },
     "execution_count": 52,
     "metadata": {},
     "output_type": "execute_result"
    }
   ],
   "source": [
    "#put both the ids and predictions together\n",
    "my_submission  = pd.concat([ids, Pred],axis = 1)\n",
    "my_submission[:10]"
   ]
  },
  {
   "cell_type": "code",
   "execution_count": 53,
   "id": "021d85a0",
   "metadata": {},
   "outputs": [],
   "source": [
    "my_submission.to_csv('houseregsubmit.csv', index=False)"
   ]
  },
  {
   "cell_type": "code",
   "execution_count": 59,
   "id": "80686dad",
   "metadata": {},
   "outputs": [
    {
     "data": {
      "text/html": [
       "<table>\n",
       "<thead>\n",
       "<tr><th style=\"text-align: right;\">  Score</th></tr>\n",
       "</thead>\n",
       "<tbody>\n",
       "<tr><td style=\"text-align: right;\">   2.47</td></tr>\n",
       "</tbody>\n",
       "</table>"
      ],
      "text/plain": [
       "<IPython.core.display.HTML object>"
      ]
     },
     "metadata": {},
     "output_type": "display_data"
    }
   ],
   "source": [
    "table = [[ 2.47]]\n",
    "display(HTML(tabulate.tabulate(table, tablefmt='html', headers = ['Score'])))"
   ]
  },
  {
   "cell_type": "code",
   "execution_count": null,
   "id": "7646b388",
   "metadata": {},
   "outputs": [],
   "source": []
  }
 ],
 "metadata": {
  "kernelspec": {
   "display_name": "Python 3 (ipykernel)",
   "language": "python",
   "name": "python3"
  },
  "language_info": {
   "codemirror_mode": {
    "name": "ipython",
    "version": 3
   },
   "file_extension": ".py",
   "mimetype": "text/x-python",
   "name": "python",
   "nbconvert_exporter": "python",
   "pygments_lexer": "ipython3",
   "version": "3.8.10"
  }
 },
 "nbformat": 4,
 "nbformat_minor": 5
}
